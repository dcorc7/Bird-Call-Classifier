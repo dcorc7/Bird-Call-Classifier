{
 "cells": [
  {
   "cell_type": "markdown",
   "id": "86b3c6c5",
   "metadata": {},
   "source": [
    "# Data Collection"
   ]
  },
  {
   "cell_type": "markdown",
   "id": "b6c9382e",
   "metadata": {},
   "source": [
    "## Import Required Libraries"
   ]
  },
  {
   "cell_type": "code",
   "execution_count": null,
   "id": "cc60124b",
   "metadata": {},
   "outputs": [],
   "source": [
    "import os\n",
    "import requests\n",
    "from tqdm import tqdm\n",
    "import shutil"
   ]
  },
  {
   "cell_type": "markdown",
   "id": "91fe772e",
   "metadata": {},
   "source": [
    "## XENO-Canto API Function"
   ]
  },
  {
   "cell_type": "code",
   "execution_count": null,
   "id": "8a16f9e7",
   "metadata": {},
   "outputs": [],
   "source": [
    "# Save bird calls for specific species from the xeno-canto API\n",
    "def download_bird_calls(species_name, base_directory, max_results, max_duration_seconds):\n",
    "\n",
    "    # Make the save directory (bird species specific folder) if it doesnt already exist\n",
    "    folder_name = species_name.lower().replace(\" \", \"_\")\n",
    "    save_directory = os.path.join(base_directory, folder_name)\n",
    "\n",
    "    # Clear existing folder if exists\n",
    "    if os.path.exists(save_directory):\n",
    "        shutil.rmtree(save_directory)\n",
    "\n",
    "    # Create a new directory\n",
    "    os.makedirs(save_directory)\n",
    "\n",
    "    # Prepare query for the API\n",
    "    query = species_name.replace(\" \", \"+\")\n",
    "    api_url = f\"https://xeno-canto.org/api/2/recordings?query={query}\"\n",
    "\n",
    "    # Print the search query\n",
    "    print(f\"Searching for: {species_name}\")\n",
    "\n",
    "    # Make the API request\n",
    "    response = requests.get(api_url)\n",
    "    data = response.json()\n",
    "    recordings = data.get(\"recordings\", [])\n",
    "\n",
    "    # Check if any recordings were found\n",
    "    if not recordings:\n",
    "        print(\"No recordings found.\")\n",
    "        return\n",
    "\n",
    "    # Initialize saved variable to count number of saved files\n",
    "    saved = 0\n",
    "\n",
    "    # Loop through the obtained recordings\n",
    "    for i, recording in enumerate(tqdm(recordings, desc = \"Checking recordings\")):\n",
    "\n",
    "        # Check if the desired nunmber of recordings has already been saved\n",
    "        if saved >= max_results:\n",
    "            break\n",
    "\n",
    "        # Check if the file is an MP3\n",
    "        if not recording[\"file-name\"].endswith(\".mp3\"):\n",
    "            continue\n",
    "\n",
    "        # Get the recording length and convert to seconds\n",
    "        recording_length = recording.get(\"length\", \"\")\n",
    "\n",
    "        try:\n",
    "            # Get the minutes and seconds from the length of recording\n",
    "            minutes, seconds = map(int, recording_length.split(\":\"))\n",
    "\n",
    "            # convert to seconds\n",
    "            duration = minutes * 60 + seconds\n",
    "        except:\n",
    "            continue\n",
    "\n",
    "        # Check if the recording is within the desired duration\n",
    "        if duration <= max_duration_seconds:\n",
    "\n",
    "            # Specify the recording url\n",
    "            url = recording[\"file\"]\n",
    "\n",
    "            # Create a filename based on the species name and saved count\n",
    "            filename = f\"{folder_name}_{saved + 1}.mp3\"\n",
    "\n",
    "            # Create the full file path for the individual recording\n",
    "            file_path = os.path.join(save_directory, filename)\n",
    "\n",
    "            # Download the file if it does not already exist\n",
    "            try:\n",
    "                audio = requests.get(url, timeout = 3)\n",
    "\n",
    "                # Check if the request was successful\n",
    "                with open(file_path, \"wb\") as file:\n",
    "                    file.write(audio.content)\n",
    "\n",
    "                # Increment the saved count\n",
    "                saved += 1\n",
    "\n",
    "            # If the download fails, print an error message\n",
    "            except Exception as e:\n",
    "                print(f\"Failed to download {url}: {e}\")\n",
    "\n",
    "    # Print the number of files downloaded for the species\n",
    "    print(f\"Downloaded {saved} .mp3 files to {save_directory}\\n\")"
   ]
  },
  {
   "cell_type": "markdown",
   "id": "f79df741",
   "metadata": {},
   "source": [
    "## Collect Bird Call Data"
   ]
  },
  {
   "cell_type": "code",
   "execution_count": null,
   "id": "8a06a1dd",
   "metadata": {},
   "outputs": [
    {
     "ename": "PermissionError",
     "evalue": "[WinError 5] Access is denied: '../data/raw/american_robin'",
     "output_type": "error",
     "traceback": [
      "\u001b[1;31m---------------------------------------------------------------------------\u001b[0m",
      "\u001b[1;31mPermissionError\u001b[0m                           Traceback (most recent call last)",
      "Cell \u001b[1;32mIn[5], line 10\u001b[0m\n\u001b[0;32m      6\u001b[0m     os\u001b[38;5;241m.\u001b[39mmakedirs(base_directory)\n\u001b[0;32m      9\u001b[0m \u001b[38;5;66;03m# Clear the raw directory and processed directory\u001b[39;00m\n\u001b[1;32m---> 10\u001b[0m \u001b[43mclear_folder_content\u001b[49m\u001b[43m(\u001b[49m\u001b[38;5;124;43m\"\u001b[39;49m\u001b[38;5;124;43m../data/raw/\u001b[39;49m\u001b[38;5;124;43m\"\u001b[39;49m\u001b[43m)\u001b[49m\n\u001b[0;32m     11\u001b[0m clear_folder_content(\u001b[38;5;124m\"\u001b[39m\u001b[38;5;124m../data/processed/\u001b[39m\u001b[38;5;124m\"\u001b[39m)\n\u001b[0;32m     14\u001b[0m \u001b[38;5;66;03m# Initlialize parameters for downloading bird calls\u001b[39;00m\n",
      "Cell \u001b[1;32mIn[5], line 5\u001b[0m, in \u001b[0;36mclear_folder_content\u001b[1;34m(base_directory)\u001b[0m\n\u001b[0;32m      3\u001b[0m \u001b[38;5;250m\u001b[39m\u001b[38;5;124;03m\"\"\"Clear all content from the specified directory.\"\"\"\u001b[39;00m\n\u001b[0;32m      4\u001b[0m \u001b[38;5;28;01mif\u001b[39;00m os\u001b[38;5;241m.\u001b[39mpath\u001b[38;5;241m.\u001b[39mexists(base_directory):\n\u001b[1;32m----> 5\u001b[0m     \u001b[43mshutil\u001b[49m\u001b[38;5;241;43m.\u001b[39;49m\u001b[43mrmtree\u001b[49m\u001b[43m(\u001b[49m\u001b[43mbase_directory\u001b[49m\u001b[43m)\u001b[49m\n\u001b[0;32m      6\u001b[0m os\u001b[38;5;241m.\u001b[39mmakedirs(base_directory)\n",
      "File \u001b[1;32mc:\\Users\\DCorc\\anaconda3\\envs\\dsan6600\\lib\\shutil.py:750\u001b[0m, in \u001b[0;36mrmtree\u001b[1;34m(path, ignore_errors, onerror)\u001b[0m\n\u001b[0;32m    748\u001b[0m     \u001b[38;5;66;03m# can't continue even if onerror hook returns\u001b[39;00m\n\u001b[0;32m    749\u001b[0m     \u001b[38;5;28;01mreturn\u001b[39;00m\n\u001b[1;32m--> 750\u001b[0m \u001b[38;5;28;01mreturn\u001b[39;00m \u001b[43m_rmtree_unsafe\u001b[49m\u001b[43m(\u001b[49m\u001b[43mpath\u001b[49m\u001b[43m,\u001b[49m\u001b[43m \u001b[49m\u001b[43monerror\u001b[49m\u001b[43m)\u001b[49m\n",
      "File \u001b[1;32mc:\\Users\\DCorc\\anaconda3\\envs\\dsan6600\\lib\\shutil.py:615\u001b[0m, in \u001b[0;36m_rmtree_unsafe\u001b[1;34m(path, onerror)\u001b[0m\n\u001b[0;32m    613\u001b[0m         onerror(os\u001b[38;5;241m.\u001b[39mpath\u001b[38;5;241m.\u001b[39mislink, fullname, sys\u001b[38;5;241m.\u001b[39mexc_info())\n\u001b[0;32m    614\u001b[0m         \u001b[38;5;28;01mcontinue\u001b[39;00m\n\u001b[1;32m--> 615\u001b[0m     \u001b[43m_rmtree_unsafe\u001b[49m\u001b[43m(\u001b[49m\u001b[43mfullname\u001b[49m\u001b[43m,\u001b[49m\u001b[43m \u001b[49m\u001b[43monerror\u001b[49m\u001b[43m)\u001b[49m\n\u001b[0;32m    616\u001b[0m \u001b[38;5;28;01melse\u001b[39;00m:\n\u001b[0;32m    617\u001b[0m     \u001b[38;5;28;01mtry\u001b[39;00m:\n",
      "File \u001b[1;32mc:\\Users\\DCorc\\anaconda3\\envs\\dsan6600\\lib\\shutil.py:624\u001b[0m, in \u001b[0;36m_rmtree_unsafe\u001b[1;34m(path, onerror)\u001b[0m\n\u001b[0;32m    622\u001b[0m     os\u001b[38;5;241m.\u001b[39mrmdir(path)\n\u001b[0;32m    623\u001b[0m \u001b[38;5;28;01mexcept\u001b[39;00m \u001b[38;5;167;01mOSError\u001b[39;00m:\n\u001b[1;32m--> 624\u001b[0m     \u001b[43monerror\u001b[49m\u001b[43m(\u001b[49m\u001b[43mos\u001b[49m\u001b[38;5;241;43m.\u001b[39;49m\u001b[43mrmdir\u001b[49m\u001b[43m,\u001b[49m\u001b[43m \u001b[49m\u001b[43mpath\u001b[49m\u001b[43m,\u001b[49m\u001b[43m \u001b[49m\u001b[43msys\u001b[49m\u001b[38;5;241;43m.\u001b[39;49m\u001b[43mexc_info\u001b[49m\u001b[43m(\u001b[49m\u001b[43m)\u001b[49m\u001b[43m)\u001b[49m\n",
      "File \u001b[1;32mc:\\Users\\DCorc\\anaconda3\\envs\\dsan6600\\lib\\shutil.py:622\u001b[0m, in \u001b[0;36m_rmtree_unsafe\u001b[1;34m(path, onerror)\u001b[0m\n\u001b[0;32m    620\u001b[0m             onerror(os\u001b[38;5;241m.\u001b[39munlink, fullname, sys\u001b[38;5;241m.\u001b[39mexc_info())\n\u001b[0;32m    621\u001b[0m \u001b[38;5;28;01mtry\u001b[39;00m:\n\u001b[1;32m--> 622\u001b[0m     \u001b[43mos\u001b[49m\u001b[38;5;241;43m.\u001b[39;49m\u001b[43mrmdir\u001b[49m\u001b[43m(\u001b[49m\u001b[43mpath\u001b[49m\u001b[43m)\u001b[49m\n\u001b[0;32m    623\u001b[0m \u001b[38;5;28;01mexcept\u001b[39;00m \u001b[38;5;167;01mOSError\u001b[39;00m:\n\u001b[0;32m    624\u001b[0m     onerror(os\u001b[38;5;241m.\u001b[39mrmdir, path, sys\u001b[38;5;241m.\u001b[39mexc_info())\n",
      "\u001b[1;31mPermissionError\u001b[0m: [WinError 5] Access is denied: '../data/raw/american_robin'"
     ]
    }
   ],
   "source": [
    "# Clear all content from a specified directory\n",
    "def clear_folder_content(base_directory):\n",
    "    if os.path.exists(base_directory):\n",
    "        shutil.rmtree(base_directory)\n",
    "    os.makedirs(base_directory)\n",
    "\n",
    "\n",
    "# Clear the raw directory and processed directory\n",
    "clear_folder_content(\"../data/raw/\")\n",
    "clear_folder_content(\"../data/processed/\")\n",
    "\n",
    "\n",
    "# Initlialize parameters for downloading bird calls\n",
    "base_directory = \"../data/raw/\"\n",
    "max_results = 100\n",
    "max_duration_seconds = 20\n",
    "birds = [\"red-winged blackbird\", \"northern cardinal\", \"american barn owl\", \"canada goose\"]\n",
    "\n",
    "\n",
    "# Download bird calls for each species in the list\n",
    "#for bird in birds:\n",
    "#    download_bird_calls(bird, base_directory, max_results, max_duration_seconds)\n"
   ]
  }
 ],
 "metadata": {
  "kernelspec": {
   "display_name": "dsan6600",
   "language": "python",
   "name": "python3"
  },
  "language_info": {
   "codemirror_mode": {
    "name": "ipython",
    "version": 3
   },
   "file_extension": ".py",
   "mimetype": "text/x-python",
   "name": "python",
   "nbconvert_exporter": "python",
   "pygments_lexer": "ipython3",
   "version": "3.10.16"
  }
 },
 "nbformat": 4,
 "nbformat_minor": 5
}
