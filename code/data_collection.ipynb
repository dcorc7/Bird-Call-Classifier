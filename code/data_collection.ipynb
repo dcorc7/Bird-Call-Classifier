{
 "cells": [
  {
   "cell_type": "markdown",
   "id": "86b3c6c5",
   "metadata": {},
   "source": [
    "# Data Collection"
   ]
  },
  {
   "cell_type": "markdown",
   "id": "b6c9382e",
   "metadata": {},
   "source": [
    "## Import Required Libraries"
   ]
  },
  {
   "cell_type": "code",
   "execution_count": 37,
   "id": "cc60124b",
   "metadata": {},
   "outputs": [],
   "source": [
    "import os\n",
    "import requests\n",
    "from tqdm import tqdm\n",
    "import shutil"
   ]
  },
  {
   "cell_type": "markdown",
   "id": "91fe772e",
   "metadata": {},
   "source": [
    "## XENO-Canto API Function"
   ]
  },
  {
   "cell_type": "code",
   "execution_count": null,
   "id": "8a16f9e7",
   "metadata": {},
   "outputs": [],
   "source": [
    "# Save bird calls for specific sepcies from the xeno-canto API\n",
    "def download_bird_calls(species_name, base_directory, max_results, max_duration_seconds):\n",
    "\n",
    "    # Make the save directory if it doesnt already exist\n",
    "    folder_name = species_name.lower().replace(\" \", \"_\")\n",
    "    save_directory = os.path.join(base_directory, folder_name)\n",
    "\n",
    "    # Clear existing folder if exists, then create a new one\n",
    "    if os.path.exists(save_directory):\n",
    "        shutil.rmtree(save_directory)\n",
    "    os.makedirs(save_directory)\n",
    "\n",
    "    # Prepare query\n",
    "    query = species_name.replace(\" \", \"+\")\n",
    "    api_url = f\"https://xeno-canto.org/api/2/recordings?query={query}\"\n",
    "\n",
    "    print(f\"Searching for: {species_name}\")\n",
    "    response = requests.get(api_url)\n",
    "    data = response.json()\n",
    "    recordings = data.get(\"recordings\", [])\n",
    "\n",
    "    if not recordings:\n",
    "        print(\"No recordings found.\")\n",
    "        return\n",
    "\n",
    "    # Initialize saved variable to count number of saved files\n",
    "    saved = 0\n",
    "\n",
    "    # Loop through recordings\n",
    "    for i, recording in enumerate(tqdm(recordings, desc = \"Checking recordings\")):\n",
    "\n",
    "        # Check if the desired nunmber of recordings has already been saved\n",
    "        if saved >= max_results:\n",
    "            break\n",
    "\n",
    "        # Check if the file is an MP3\n",
    "        if not recording[\"file-name\"].endswith(\".mp3\"):\n",
    "            continue\n",
    "\n",
    "        # Get the recording length and convert to seconds\n",
    "        recording_length = recording.get(\"length\", \"\")\n",
    "\n",
    "        try:\n",
    "            # Get the minutes and seconds from the length of recording\n",
    "            minutes, seconds = map(int, recording_length.split(\":\"))\n",
    "\n",
    "            # convert to seconds\n",
    "            duration = minutes * 60 + seconds\n",
    "        except:\n",
    "            continue\n",
    "\n",
    "        # Check if the recording is within the desired duration\n",
    "        if duration <= max_duration_seconds:\n",
    "\n",
    "            # Specify url\n",
    "            url = recording[\"file\"]\n",
    "\n",
    "            # Create a filename based on the species name and saved count\n",
    "            filename = f\"{folder_name}_{saved + 1}.mp3\"\n",
    "\n",
    "            # Create the full file path\n",
    "            file_path = os.path.join(save_directory, filename)\n",
    "\n",
    "            # Download the file if it does not already exist\n",
    "            try:\n",
    "                audio = requests.get(url, timeout = 3)\n",
    "\n",
    "                # Check if the request was successful\n",
    "                with open(file_path, \"wb\") as file:\n",
    "                    file.write(audio.content)\n",
    "\n",
    "                # Increment the saved count\n",
    "                saved += 1\n",
    "\n",
    "            # If the download fails, print an error message\n",
    "            except Exception as e:\n",
    "                print(f\"Failed to download {url}: {e}\")\n",
    "\n",
    "    print(f\"Downloaded {saved} .mp3 files to {save_directory}\\n\")"
   ]
  },
  {
   "cell_type": "markdown",
   "id": "f79df741",
   "metadata": {},
   "source": [
    "## Collect Bird Call Data"
   ]
  },
  {
   "cell_type": "code",
   "execution_count": 40,
   "id": "8a06a1dd",
   "metadata": {},
   "outputs": [
    {
     "name": "stdout",
     "output_type": "stream",
     "text": [
      "Searching for: bald eagle\n"
     ]
    },
    {
     "name": "stderr",
     "output_type": "stream",
     "text": [
      "Checking recordings: 100%|██████████| 117/117 [00:51<00:00,  2.27it/s]\n"
     ]
    },
    {
     "name": "stdout",
     "output_type": "stream",
     "text": [
      "Downloaded 39 .mp3 files to ../data/raw/bald_eagle\n",
      "Searching for: red-tailed hawk\n"
     ]
    },
    {
     "name": "stderr",
     "output_type": "stream",
     "text": [
      "Checking recordings:  96%|█████████▌| 199/207 [01:11<00:02,  2.77it/s]\n"
     ]
    },
    {
     "name": "stdout",
     "output_type": "stream",
     "text": [
      "Downloaded 50 .mp3 files to ../data/raw/red-tailed_hawk\n",
      "Searching for: american robin\n"
     ]
    },
    {
     "name": "stderr",
     "output_type": "stream",
     "text": [
      "Checking recordings:  59%|█████▉    | 297/500 [01:18<00:53,  3.77it/s]\n"
     ]
    },
    {
     "name": "stdout",
     "output_type": "stream",
     "text": [
      "Downloaded 50 .mp3 files to ../data/raw/american_robin\n",
      "Searching for: northern cardinal\n"
     ]
    },
    {
     "name": "stderr",
     "output_type": "stream",
     "text": [
      "Checking recordings:  66%|██████▌   | 330/500 [01:26<00:44,  3.81it/s]"
     ]
    },
    {
     "name": "stdout",
     "output_type": "stream",
     "text": [
      "Downloaded 50 .mp3 files to ../data/raw/northern_cardinal\n"
     ]
    },
    {
     "name": "stderr",
     "output_type": "stream",
     "text": [
      "\n"
     ]
    }
   ],
   "source": [
    "base_directory = \"../data/raw/\"\n",
    "max_results = 50\n",
    "max_duration_seconds = 20\n",
    "\n",
    "birds = [\"bald eagle\", \"red-tailed hawk\", \"american robin\", \"northern cardinal\"]\n",
    "\n",
    "for bird in birds:\n",
    "    download_bird_calls(bird, base_directory, max_results, max_duration_seconds)\n"
   ]
  }
 ],
 "metadata": {
  "kernelspec": {
   "display_name": "dsan6600",
   "language": "python",
   "name": "python3"
  },
  "language_info": {
   "codemirror_mode": {
    "name": "ipython",
    "version": 3
   },
   "file_extension": ".py",
   "mimetype": "text/x-python",
   "name": "python",
   "nbconvert_exporter": "python",
   "pygments_lexer": "ipython3",
   "version": "3.10.16"
  }
 },
 "nbformat": 4,
 "nbformat_minor": 5
}
