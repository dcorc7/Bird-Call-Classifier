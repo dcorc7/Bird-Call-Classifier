{
 "cells": [
  {
   "cell_type": "markdown",
   "id": "8d6bc60a",
   "metadata": {},
   "source": [
    "# Data Preprecessing"
   ]
  },
  {
   "cell_type": "markdown",
   "id": "86a8a006",
   "metadata": {},
   "source": [
    "## Import Required Libraries"
   ]
  },
  {
   "cell_type": "code",
   "execution_count": 2,
   "id": "d29b7e0a",
   "metadata": {},
   "outputs": [],
   "source": [
    "import os\n",
    "import librosa\n",
    "import numpy as np\n",
    "import librosa.display\n",
    "import matplotlib.pyplot as plt\n",
    "import numpy as np"
   ]
  },
  {
   "cell_type": "markdown",
   "id": "656ee7aa",
   "metadata": {},
   "source": [
    "## Establish Bird Classes and Create a Label Map"
   ]
  },
  {
   "cell_type": "code",
   "execution_count": 3,
   "id": "a79fb820",
   "metadata": {},
   "outputs": [
    {
     "name": "stdout",
     "output_type": "stream",
     "text": [
      "BIRD CLASSES:\n",
      " ['american_robin', 'bald_eagle', 'northern_cardinal', 'red-tailed_hawk'] \n",
      "\n",
      "LABEL MAP:\n",
      " {'american_robin': 0, 'bald_eagle': 1, 'northern_cardinal': 2, 'red-tailed_hawk': 3}\n"
     ]
    }
   ],
   "source": [
    "# Initialize bird classes \n",
    "bird_classes = sorted(os.listdir(\"../data/raw/\"))\n",
    "\n",
    "# Initialize a label map for bird classes\n",
    "label_map = {}\n",
    "\n",
    "for idx in range(len(bird_classes)):\n",
    "    bird = bird_classes[idx]\n",
    "    label_map[bird] = idx\n",
    "\n",
    "print(\"BIRD CLASSES:\\n\", bird_classes, \"\\n\")\n",
    "print(\"LABEL MAP:\\n\", label_map)"
   ]
  },
  {
   "cell_type": "markdown",
   "id": "fe273caa",
   "metadata": {},
   "source": [
    "## Functions to Convert MP3 Files to Mel Spectrograms"
   ]
  },
  {
   "cell_type": "code",
   "execution_count": 4,
   "id": "f172503e",
   "metadata": {},
   "outputs": [],
   "source": [
    "# Function to convert MP3 files to mel spectrograms\n",
    "def mp3_to_spectrogram(file_path, n_mels = 128, duration = 5, sr = 22050):\n",
    "    # Load the MP3 file\n",
    "    y, _ = librosa.load(file_path, sr = sr, duration = duration)\n",
    "\n",
    "    # Use libraosa to compute the mel spectrogram\n",
    "    mels = librosa.feature.melspectrogram(y = y, sr = sr, n_mels = n_mels)\n",
    "\n",
    "    # Convert the mel spectrogram to decibel scale\n",
    "    log_mels = librosa.power_to_db(mels)\n",
    "\n",
    "    # Return the log-mel spectrogram\n",
    "    return log_mels\n",
    "\n",
    "# Function to save the mel spectragrams as numpy arrays\n",
    "def save_spectogram_as_npy(file_path, output_path):\n",
    "    # Convert the MP3 file to mel spectrogram\n",
    "    mel = mp3_to_spectrogram(file_path)\n",
    "\n",
    "    # Save the spectrogram as a numpy array\n",
    "    np.save(output_path, mel)"
   ]
  },
  {
   "cell_type": "markdown",
   "id": "56d472af",
   "metadata": {},
   "source": [
    "## Convert MP3 Files to Mel Spectrograms"
   ]
  },
  {
   "cell_type": "code",
   "execution_count": 5,
   "id": "26e6db2a",
   "metadata": {},
   "outputs": [],
   "source": [
    "# Loop through ecah bird class directory\n",
    "for bird in bird_classes:\n",
    "    # Find directories for each bird class\n",
    "    bird_directory = os.path.join(\"../data/raw/\", bird)\n",
    "\n",
    "    # Establish output directory for processed data\n",
    "    output_dir = os.path.join(\"../data/processed/\", bird)\n",
    "    os.makedirs(output_dir, exist_ok = True)\n",
    "    \n",
    "    # Loop through each MP3 file in the bird class directory\n",
    "    for filename in os.listdir(bird_directory):\n",
    "\n",
    "        # Check if the file is an MP3 file\n",
    "        if filename.endswith(\".mp3\"):\n",
    "            # Construct the full file path\n",
    "            file_path = os.path.join(bird_directory, filename)\n",
    "\n",
    "            # Construct the full outut path\n",
    "            output_path = os.path.join(output_dir, filename.replace(\".mp3\", \".npy\"))\n",
    "\n",
    "            # Save the mel spectrogram as a numpy array\n",
    "            save_spectogram_as_npy(file_path, output_path)"
   ]
  },
  {
   "cell_type": "markdown",
   "id": "67b43154",
   "metadata": {},
   "source": [
    "# Inspect Spectrogram Sizes"
   ]
  },
  {
   "cell_type": "code",
   "execution_count": 6,
   "id": "d0d4c5d2",
   "metadata": {},
   "outputs": [],
   "source": [
    "# Investigate the shapes of the spectorgams\n",
    "def inspect_spectogram_shapes(data_directory = \"../data/processed/\"):\n",
    "    # Initialize a list to store the shapes of the spectrograms\n",
    "    shape_list = []\n",
    "\n",
    "    # Loop through ecah bird direcotry\n",
    "    for bird in os.listdir(data_directory):\n",
    "        bird_directory = os.path.join(data_directory, bird)\n",
    "\n",
    "        # Check if directory exists\n",
    "        if not os.path.isdir(bird_directory):\n",
    "            continue\n",
    "\n",
    "        # Loop through each numpy file\n",
    "        for file_name in os.listdir(bird_directory):\n",
    "\n",
    "            # Check if the file is a numpy file\n",
    "            if file_name.endswith(\".npy\"):\n",
    "                file_path = os.path.join(bird_directory, file_name)\n",
    "\n",
    "                # Load the numpy file\n",
    "                spectogram = np.load(file_path)\n",
    "\n",
    "                # Get the file shape and append it to the list\n",
    "                shape = spectogram.shape\n",
    "                shape_list.append(shape)\n",
    "\n",
    "    # Return the list of spectogram shapes\n",
    "    return shape_list"
   ]
  },
  {
   "cell_type": "code",
   "execution_count": 7,
   "id": "8215225e",
   "metadata": {},
   "outputs": [
    {
     "name": "stdout",
     "output_type": "stream",
     "text": [
      "Summary:\n",
      "\tMin width: 88\n",
      "\tMax width: 216\n",
      "\tMean width: 207.65\n",
      "\tFixed height (n_mels): {128}\n",
      "[(128, 216), (128, 216), (128, 216), (128, 216), (128, 216), (128, 216), (128, 216), (128, 216), (128, 216), (128, 216), (128, 216), (128, 216), (128, 216), (128, 216), (128, 216), (128, 216), (128, 216), (128, 216), (128, 216), (128, 216), (128, 216), (128, 216), (128, 216), (128, 121), (128, 216), (128, 216), (128, 216), (128, 216), (128, 216), (128, 216), (128, 216), (128, 216), (128, 216), (128, 216), (128, 216), (128, 196), (128, 216), (128, 216), (128, 191), (128, 155), (128, 164), (128, 216), (128, 216), (128, 216), (128, 216), (128, 216), (128, 216), (128, 216), (128, 216), (128, 216), (128, 88), (128, 216), (128, 216), (128, 216), (128, 216), (128, 216), (128, 216), (128, 216), (128, 216), (128, 147), (128, 216), (128, 216), (128, 216), (128, 216), (128, 216), (128, 216), (128, 111), (128, 216), (128, 216), (128, 216), (128, 216), (128, 216), (128, 216), (128, 216), (128, 216), (128, 216), (128, 216), (128, 216), (128, 163), (128, 216), (128, 216), (128, 179), (128, 216), (128, 216), (128, 216), (128, 216), (128, 216), (128, 216), (128, 216), (128, 216), (128, 216), (128, 216), (128, 216), (128, 216), (128, 216), (128, 216), (128, 216), (128, 216), (128, 216), (128, 216), (128, 216), (128, 216), (128, 216), (128, 216), (128, 216), (128, 216), (128, 216), (128, 216), (128, 216), (128, 216), (128, 216), (128, 216), (128, 216), (128, 216), (128, 216), (128, 159), (128, 216), (128, 216), (128, 216), (128, 216), (128, 216), (128, 216), (128, 193), (128, 216), (128, 216), (128, 216), (128, 216), (128, 216), (128, 216), (128, 216), (128, 165), (128, 216), (128, 216), (128, 216), (128, 216), (128, 156), (128, 216), (128, 216), (128, 216), (128, 216), (128, 216), (128, 216), (128, 216), (128, 216), (128, 216), (128, 216), (128, 151), (128, 216), (128, 216), (128, 216), (128, 216), (128, 216), (128, 216), (128, 216), (128, 144), (128, 216), (128, 216), (128, 181), (128, 216), (128, 213), (128, 216), (128, 216), (128, 210), (128, 216), (128, 216), (128, 216), (128, 216), (128, 169), (128, 216), (128, 174), (128, 187), (128, 216), (128, 216), (128, 216), (128, 216), (128, 216), (128, 216), (128, 183), (128, 216), (128, 216), (128, 216), (128, 98), (128, 92), (128, 183), (128, 216), (128, 149), (128, 216), (128, 148), (128, 216)]\n"
     ]
    }
   ],
   "source": [
    "# Inspect shapes of ALL spectrograms regardless of bird class\n",
    "spectogram_shapes = inspect_spectogram_shapes()\n",
    "\n",
    "# Initialize lsits to store heights and widths\n",
    "heights = []\n",
    "widths = []\n",
    "\n",
    "# Loop through the shapes and extract hieghts and widths\n",
    "for shape in spectogram_shapes:\n",
    "    heights.append(shape[0])\n",
    "    widths.append(shape[1])\n",
    "\n",
    "print(\"Summary:\")\n",
    "print(f\"\\tMin width: {min(widths)}\")\n",
    "print(f\"\\tMax width: {max(widths)}\")\n",
    "print(f\"\\tMean width: {sum(widths) / len(widths):.2f}\")\n",
    "print(f\"\\tFixed height (n_mels): {set(heights)}\")\n",
    "\n",
    "print(spectogram_shapes)"
   ]
  },
  {
   "cell_type": "markdown",
   "id": "f28c2077",
   "metadata": {},
   "source": [
    "## Pad or Crop Spectrograms to a Fixed Size"
   ]
  },
  {
   "cell_type": "code",
   "execution_count": 11,
   "id": "63ff9407",
   "metadata": {},
   "outputs": [],
   "source": [
    "# Ensure spectrgrams are the same size\n",
    "def pad_or_crop(spectrogram, target_width):\n",
    "    # Get spectrogram width\n",
    "    _, width = spectrogram.shape\n",
    "\n",
    "    # Check if the width is greater than the target width\n",
    "    if width > target_width:\n",
    "        # Crop the spectrogram at the center\n",
    "        start = (width - target_width) // 2\n",
    "\n",
    "        # Ensure the spectrogram is cropped correctly\n",
    "        spectrogram = spectrogram[:, start : start + target_width]\n",
    "\n",
    "    # Check if the width is less than the target width\n",
    "    elif width < target_width:\n",
    "        # Determine how much to pad\n",
    "        pad_width = target_width - width\n",
    "\n",
    "        # Pad the spectrogram with zeros\n",
    "        spectrogram = np.pad(spectrogram, ((0, 0), (0, pad_width)), mode = \"constant\")\n",
    "    \n",
    "    # Return the padded or cropped spectrogram\n",
    "    return spectrogram"
   ]
  },
  {
   "cell_type": "code",
   "execution_count": 12,
   "id": "1901d4ee",
   "metadata": {},
   "outputs": [],
   "source": [
    "# Apply the paddin/cropping function to all spectrograms\n",
    "def standardize_all_spectograms(data_directory, target_width):\n",
    "\n",
    "    # Loop through each processed bird directory\n",
    "    for bird in os.listdir(data_directory):\n",
    "        bird_directory = os.path.join(data_directory, bird)\n",
    "        if not os.path.isdir(bird_directory):\n",
    "            continue\n",
    "\n",
    "        # Loop through each numpy file in the processed bird directory\n",
    "        for file_name in os.listdir(bird_directory):\n",
    "\n",
    "            # Check if the file in a numpy file\n",
    "            if file_name.endswith(\".npy\"):\n",
    "                # Get the full file path\n",
    "                file_path = os.path.join(bird_directory, file_name)\n",
    "                spectrogram = np.load(file_path)\n",
    "\n",
    "                # Standardize the spectrogram width\n",
    "                spectrogram_fixed = pad_or_crop(spectrogram, target_width = target_width)\n",
    "\n",
    "                # Overwrite the file\n",
    "                np.save(file_path, spectrogram_fixed)\n",
    "\n",
    "                # print(f\"Processed: {file_path}:\\n\\tBEFORE: {spectrogram.shape} \\n\\tAFTER: {spectrogram_fixed.shape}\")"
   ]
  },
  {
   "cell_type": "code",
   "execution_count": 13,
   "id": "bcae7249",
   "metadata": {},
   "outputs": [],
   "source": [
    " # Set target width to the maximum width found\n",
    "target_width = max(widths) \n",
    "\n",
    "# Data Directory\n",
    "data_directory = \"../data/processed/\"\n",
    "\n",
    "# Standardize all spectrograms in the processed data directory\n",
    "standardize_all_spectograms(data_directory, target_width)"
   ]
  }
 ],
 "metadata": {
  "kernelspec": {
   "display_name": "Python 3",
   "language": "python",
   "name": "python3"
  },
  "language_info": {
   "codemirror_mode": {
    "name": "ipython",
    "version": 3
   },
   "file_extension": ".py",
   "mimetype": "text/x-python",
   "name": "python",
   "nbconvert_exporter": "python",
   "pygments_lexer": "ipython3",
   "version": "3.13.1"
  }
 },
 "nbformat": 4,
 "nbformat_minor": 5
}
