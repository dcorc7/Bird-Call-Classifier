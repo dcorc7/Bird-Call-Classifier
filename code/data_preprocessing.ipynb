{
 "cells": [
  {
   "cell_type": "markdown",
   "id": "8d6bc60a",
   "metadata": {},
   "source": [
    "# Data Preprecessing"
   ]
  },
  {
   "cell_type": "markdown",
   "id": "86a8a006",
   "metadata": {},
   "source": [
    "## Import Required Libraries"
   ]
  },
  {
   "cell_type": "code",
   "execution_count": null,
   "id": "d29b7e0a",
   "metadata": {},
   "outputs": [],
   "source": [
    "import pandas as pd\n"
   ]
  }
 ],
 "metadata": {
  "kernelspec": {
   "display_name": "dsan6600",
   "language": "python",
   "name": "python3"
  },
  "language_info": {
   "codemirror_mode": {
    "name": "ipython",
    "version": 3
   },
   "file_extension": ".py",
   "mimetype": "text/x-python",
   "name": "python",
   "nbconvert_exporter": "python",
   "pygments_lexer": "ipython3",
   "version": "3.10.16"
  }
 },
 "nbformat": 4,
 "nbformat_minor": 5
}
