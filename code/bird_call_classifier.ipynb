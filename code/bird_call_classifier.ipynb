{
 "cells": [
  {
   "cell_type": "markdown",
   "id": "29061172",
   "metadata": {},
   "source": [
    "# Bird Call Classifier"
   ]
  },
  {
   "cell_type": "markdown",
   "id": "09e8b962",
   "metadata": {},
   "source": [
    "## Import Required Libraries"
   ]
  },
  {
   "cell_type": "code",
   "execution_count": 63,
   "id": "30cb0fa7",
   "metadata": {},
   "outputs": [],
   "source": [
    "import os\n",
    "import numpy as np\n",
    "import torch\n",
    "import torch.nn as nn\n",
    "import torch.nn.functional as F\n",
    "from torch.utils.data import TensorDataset, DataLoader\n",
    "from sklearn.model_selection import train_test_split\n",
    "import torch.optim as optim\n",
    "import matplotlib.pyplot as plt\n",
    "from sklearn.metrics import classification_report, confusion_matrix\n",
    "import seaborn as sns\n"
   ]
  },
  {
   "cell_type": "markdown",
   "id": "d47585ae",
   "metadata": {},
   "source": [
    "## Establish Bird Classes and Create a Label Map"
   ]
  },
  {
   "cell_type": "code",
   "execution_count": 64,
   "id": "f757c39c",
   "metadata": {},
   "outputs": [
    {
     "name": "stdout",
     "output_type": "stream",
     "text": [
      "BIRD CLASSES:\n",
      " ['bald_eagle', 'northern_cardinal'] \n",
      "\n",
      "LABEL MAP:\n",
      " {'bald_eagle': 0, 'northern_cardinal': 1}\n"
     ]
    }
   ],
   "source": [
    "# Initialize bird classes \n",
    "bird_classes = sorted(os.listdir(\"../data/raw/\"))\n",
    "\n",
    "# Initialize a label map for bird classes\n",
    "label_map = {}\n",
    "\n",
    "for idx in range(len(bird_classes)):\n",
    "    bird = bird_classes[idx]\n",
    "    label_map[bird] = idx\n",
    "\n",
    "print(\"BIRD CLASSES:\\n\", bird_classes, \"\\n\")\n",
    "print(\"LABEL MAP:\\n\", label_map)"
   ]
  },
  {
   "cell_type": "markdown",
   "id": "998dc1c3",
   "metadata": {
    "vscode": {
     "languageId": "plaintext"
    }
   },
   "source": [
    "## Creating the Dataset and Dataloaders"
   ]
  },
  {
   "cell_type": "code",
   "execution_count": 65,
   "id": "6d82844f",
   "metadata": {},
   "outputs": [],
   "source": [
    "# Initialize the data direcotry\n",
    "data_directory = \"../data/processed/\"\n",
    "\n",
    "# Initilize lists to hold all spectrograms and labels\n",
    "all_spectrograms = []\n",
    "all_labels = []\n",
    "\n",
    "# Loop through each bird class directory and load the spectrograms\n",
    "for bird in bird_classes:\n",
    "    bird_directory = os.path.join(data_directory, bird)\n",
    "\n",
    "    # Loop through each file in the bird directory\n",
    "    for file_name in os.listdir(bird_directory):\n",
    "\n",
    "        # Check if the file is a numpy file\n",
    "        if file_name.endswith(\".npy\"):\n",
    "            file_path = os.path.join(bird_directory, file_name)\n",
    "\n",
    "            # Load the spectrogram\n",
    "            spectrogram = np.load(file_path)\n",
    "\n",
    "            # Convert the spectrogram to a tensor\n",
    "            spectrogram_tensor = torch.tensor(spectrogram).unsqueeze(0).float()\n",
    "\n",
    "            # Append the spectrogram tensor and label to their respective lists\n",
    "            all_spectrograms.append(spectrogram_tensor)\n",
    "            all_labels.append(label_map[bird])\n",
    "\n",
    "# Stack all tensors into a single tensor\n",
    "x = torch.stack(all_spectrograms)\n",
    "y = torch.tensor(all_labels)\n",
    "\n",
    "# Split the dataset into training, validation, and testing sets\n",
    "x_train, x_temp, y_train, y_temp = train_test_split( x, y, test_size = 0.2, stratify = y, random_state = 7)\n",
    "\n",
    "x_val, x_test, y_val, y_test = train_test_split(x_temp, y_temp, test_size = 0.5, stratify = y_temp, random_state = 7)\n",
    "\n",
    "# Create the tensor datasets\n",
    "train_dataset = TensorDataset(x_train, y_train)\n",
    "val_dataset = TensorDataset(x_val, y_val)\n",
    "test_dataset = TensorDataset(x_test, y_test)\n",
    "\n",
    "# Create the DataLoaders\n",
    "train_loader = DataLoader(train_dataset, batch_size = 16, shuffle = True)\n",
    "val_loader = DataLoader(val_dataset, batch_size = 16, shuffle = False)\n",
    "test_loader = DataLoader(test_dataset, batch_size = 16, shuffle = False)"
   ]
  },
  {
   "cell_type": "code",
   "execution_count": 66,
   "id": "e676393d",
   "metadata": {},
   "outputs": [
    {
     "name": "stdout",
     "output_type": "stream",
     "text": [
      "TRAINING:\n",
      "x shape: torch.Size([36, 1, 128, 216])\n",
      "y shape: torch.Size([36])\n",
      "Percentage: 80.00\n",
      "\n",
      "VALIDATION:\n",
      "x shape: torch.Size([4, 1, 128, 216])\n",
      "y shape: torch.Size([4])\n",
      "Percentage: 8.89\n",
      "\n",
      "TESTING:\n",
      "x shape: torch.Size([5, 1, 128, 216])\n",
      "y shape: torch.Size([5])\n",
      "Percentage: 11.11\n",
      "\n"
     ]
    }
   ],
   "source": [
    "# Sanity Check for dataset shapes\n",
    "total_calls = len(all_spectrograms)\n",
    "\n",
    "print(\"TRAINING:\")\n",
    "print(\"x shape:\", x_train.shape)\n",
    "print(\"y shape:\", y_train.shape)\n",
    "print(f\"Percentage: {len(x_train) / total_calls * 100:.2f}\\n\")\n",
    "\n",
    "print(\"VALIDATION:\")\n",
    "print(\"x shape:\", x_val.shape)\n",
    "print(\"y shape:\", y_val.shape)\n",
    "print(f\"Percentage: {len(x_val) / total_calls * 100:.2f}\\n\")\n",
    "\n",
    "print(\"TESTING:\")\n",
    "print(\"x shape:\", x_test.shape)\n",
    "print(\"y shape:\", y_test.shape)\n",
    "print(f\"Percentage: {len(x_test) / total_calls * 100:.2f}\\n\")"
   ]
  },
  {
   "cell_type": "markdown",
   "id": "a072f772",
   "metadata": {},
   "source": [
    "## Neural Network Model"
   ]
  },
  {
   "cell_type": "code",
   "execution_count": 67,
   "id": "2d3244ed",
   "metadata": {},
   "outputs": [],
   "source": [
    "\n",
    "class BirdCallCNN(nn.Module):\n",
    "    def __init__(self, num_classes):\n",
    "        super(BirdCallCNN, self).__init__()\n",
    "\n",
    "        # First convolutional layer\n",
    "        self.conv1 = nn.Conv2d(1, 16, kernel_size = 3, padding = 1)\n",
    "        self.bn1 = nn.BatchNorm2d(16)\n",
    "        self.pool = nn.MaxPool2d(2, 2)  # Halves spatial dims\n",
    "\n",
    "        # Second convolutional layer\n",
    "        self.conv2 = nn.Conv2d(16, 32, kernel_size = 3, padding = 1)\n",
    "        self.bn2 = nn.BatchNorm2d(32)\n",
    "\n",
    "        # Third convolutional layer\n",
    "        self.conv3 = nn.Conv2d(32, 64, kernel_size = 3, padding = 1)\n",
    "        self.bn3 = nn.BatchNorm2d(64)\n",
    "\n",
    "        # Initialize flattened size based on input dimensions\n",
    "        flattened_size = 64 * 16 * 27\n",
    "\n",
    "        # Fully connected layers\n",
    "        self.fc1 = nn.Linear(flattened_size, 128)\n",
    "        self.fc2 = nn.Linear(128, num_classes)\n",
    "\n",
    "    def forward(self, x):\n",
    "        \n",
    "        # Forward pass through the CNN\n",
    "        x = self.pool(F.relu(self.bn1(self.conv1(x))))\n",
    "        x = self.pool(F.relu(self.bn2(self.conv2(x))))\n",
    "        x = self.pool(F.relu(self.bn3(self.conv3(x))))\n",
    "\n",
    "        # Flatten the tensor fo the fully connected layers\n",
    "        x = x.view(x.size(0), -1)\n",
    "\n",
    "        # ReLU activation\n",
    "        x = F.relu(self.fc1(x))\n",
    "\n",
    "        # Output layer \n",
    "        x = self.fc2(x)\n",
    "\n",
    "        # Softmax activation for multi-class classification\n",
    "        return x\n"
   ]
  },
  {
   "cell_type": "markdown",
   "id": "13f54fbe",
   "metadata": {},
   "source": [
    "## Training Loop"
   ]
  },
  {
   "cell_type": "code",
   "execution_count": 68,
   "id": "222b41fe",
   "metadata": {},
   "outputs": [],
   "source": [
    "# Function to train the model\n",
    "def train_model(model, train_dataloader, val_dataloader, device, patience = 5, epochs = 10, print_epochs = False):\n",
    "    # Establish the loss function\n",
    "    criterion = nn.CrossEntropyLoss()\n",
    "\n",
    "    # Establish the optimizer\n",
    "    optimizer = optim.Adam(model.parameters(), lr = 0.001)\n",
    "\n",
    "    model.to(device)\n",
    "\n",
    "    # Lists to store values across epochs\n",
    "    train_losses = []\n",
    "    train_accuracies = []\n",
    "    val_losses = []\n",
    "    val_accuracies = []\n",
    "\n",
    "    # Early stopping criteria\n",
    "    best_val_loss = float(\"inf\")\n",
    "    early_stopping_counter = 0\n",
    "\n",
    "    # Loop through epochs\n",
    "    for epoch in range(epochs):\n",
    "        # ----- TRAINING LOOP -----\n",
    "\n",
    "        # Set the model to training mode\n",
    "        model.train()\n",
    "\n",
    "        # initialize varibles to track loss and accuracy\n",
    "        running_train_loss = 0.0\n",
    "        train_correct = 0\n",
    "        train_total = 0\n",
    "\n",
    "        # Loop through dataloader\n",
    "        for inputs, labels in train_dataloader:\n",
    "            inputs = inputs.to(device)\n",
    "            labels = labels.to(device)\n",
    "\n",
    "            # Zero the gradients\n",
    "            optimizer.zero_grad()\n",
    "\n",
    "            # Forward pass\n",
    "            outputs = model(inputs)\n",
    "\n",
    "            # Compute loss\n",
    "            loss = criterion(outputs, labels)\n",
    "            loss.backward()\n",
    "            optimizer.step()\n",
    "\n",
    "            # Update running loss and accuracy\n",
    "            running_train_loss += loss.item() * inputs.size(0)\n",
    "            _, predicted = torch.max(outputs, 1)\n",
    "            train_total += labels.size(0)\n",
    "            train_correct += (predicted == labels).sum().item()\n",
    "\n",
    "        # Calculate running training loss and accuracy\n",
    "        train_loss = running_train_loss / train_total\n",
    "        train_accuracy = train_correct / train_total\n",
    "        train_losses.append(train_loss)\n",
    "        train_accuracies.append(train_accuracy)\n",
    "\n",
    "        # ----- VALIDATION LOOP -----\n",
    "        model.eval()\n",
    "        running_val_loss = 0.0\n",
    "        val_correct = 0\n",
    "        val_total = 0\n",
    "\n",
    "        with torch.no_grad():\n",
    "            for inputs, labels in val_dataloader:\n",
    "                inputs = inputs.to(device)\n",
    "                labels = labels.to(device)\n",
    "\n",
    "                # Forward pass\n",
    "                outputs = model(inputs)\n",
    "\n",
    "                # Calculate validation loss\n",
    "                loss = criterion(outputs, labels)\n",
    "\n",
    "                # Updated running validation loss and accuracy\n",
    "                running_val_loss += loss.item() * inputs.size(0)\n",
    "                _, predicted = torch.max(outputs, 1)\n",
    "                val_total += labels.size(0)\n",
    "                val_correct += (predicted == labels).sum().item()\n",
    "\n",
    "        val_loss = running_val_loss / val_total\n",
    "        val_accuracy = val_correct / val_total\n",
    "        val_losses.append(val_loss)\n",
    "        val_accuracies.append(val_accuracy)\n",
    "\n",
    "        # Print epoch statistics\n",
    "        if print_epochs == True:\n",
    "            print(f\"Epoch {epoch + 1}:\")\n",
    "            print(f\"\\tTraining Loss: {train_loss:.4f} | Training Accuracy: {train_accuracy:.4f}\")\n",
    "            print(f\"\\tValidation Loss: {val_loss:.4f} | Training Accuracy: {val_accuracy:.4f}\\n\")\n",
    "\n",
    "        # Early stopping logic\n",
    "        if val_loss < best_val_loss:\n",
    "            best_val_loss = val_loss\n",
    "            early_stopping_counter = 0\n",
    "        else:\n",
    "            early_stopping_counter += 1\n",
    "\n",
    "        if early_stopping_counter >= patience:\n",
    "            print(f\"Early stopping triggered after {epoch + 1} epochs\")\n",
    "            break\n",
    "\n",
    "    return train_losses, train_accuracies, val_losses, val_accuracies"
   ]
  },
  {
   "cell_type": "code",
   "execution_count": 69,
   "id": "80e99652",
   "metadata": {},
   "outputs": [
    {
     "name": "stdout",
     "output_type": "stream",
     "text": [
      "Early stopping triggered after 13 epochs\n"
     ]
    }
   ],
   "source": [
    "device = torch.device(\"cuda\" if torch.cuda.is_available() else \"cpu\")\n",
    "model = BirdCallCNN(num_classes = len(label_map))\n",
    "\n",
    "train_losses, train_accuracies, val_losses, val_accuracies = train_model(model, train_loader, val_loader, device, epochs = 50, print_epochs = False)"
   ]
  },
  {
   "cell_type": "markdown",
   "id": "bc6f04d1",
   "metadata": {},
   "source": [
    "## Visualize Training and Validation Losses and Accuracies"
   ]
  },
  {
   "cell_type": "code",
   "execution_count": 74,
   "id": "25123c56",
   "metadata": {},
   "outputs": [
    {
     "data": {
      "image/png": "[encoded data removed]",
      "text/plain": [
       "<Figure size 1200x500 with 2 Axes>"
      ]
     },
     "metadata": {},
     "output_type": "display_data"
    }
   ],
   "source": [
    "def plot_training_curves(train_losses, train_accuracies, val_losses, val_accuracies):\n",
    "    epochs = range(1, len(train_losses) + 1)\n",
    "\n",
    "    plt.figure(figsize = (12, 5))\n",
    "\n",
    "    # Plot Loss\n",
    "    plt.subplot(1, 2, 1)\n",
    "    plt.plot(epochs, train_losses, label = \"Training Loss\", marker = \"o\",color = \"blue\")\n",
    "    plt.plot(epochs, val_losses, label = \"Validation Loss\", marker = \"o\",color = \"red\")\n",
    "    plt.xlabel(\"Epoch\")\n",
    "    plt.ylabel(\"Loss\")\n",
    "    plt.title(\"Training and Validation Loss\")\n",
    "    plt.legend()\n",
    "\n",
    "    # Plot Accuracy\n",
    "    plt.subplot(1, 2, 2)\n",
    "    plt.plot(epochs, train_accuracies, label = \"Training Accuracy\", marker = \"o\", color = \"blue\")\n",
    "    plt.plot(epochs, val_accuracies, label = \"Validation Accuracy\", marker = \"o\",color = \"red\")\n",
    "    plt.xlabel(\"Epoch\")\n",
    "    plt.ylabel(\"Accuracy\")\n",
    "    plt.title(\"Training and Validation Accuracy\")\n",
    "    plt.legend()\n",
    "\n",
    "    plt.show()\n",
    "\n",
    "plot_training_curves(train_losses, train_accuracies, val_losses, val_accuracies)"
   ]
  },
  {
   "cell_type": "markdown",
   "id": "84f84112",
   "metadata": {},
   "source": [
    "## Evaluate the Test Set"
   ]
  },
  {
   "cell_type": "code",
   "execution_count": 75,
   "id": "f60aa2a1",
   "metadata": {},
   "outputs": [],
   "source": [
    "def evaluate(model, dataloader, device):\n",
    "    model.eval()\n",
    "    all_preds = []\n",
    "    all_labels = []\n",
    "\n",
    "    with torch.no_grad():\n",
    "        for inputs, labels in dataloader:\n",
    "            inputs = inputs.to(device)\n",
    "            labels = labels.to(device)\n",
    "\n",
    "            outputs = model(inputs)\n",
    "            _, predicted = torch.max(outputs, 1)\n",
    "\n",
    "            all_preds.extend(predicted.cpu().numpy())\n",
    "            all_labels.extend(labels.cpu().numpy())\n",
    "\n",
    "    return all_preds, all_labels"
   ]
  },
  {
   "cell_type": "code",
   "execution_count": 76,
   "id": "982e9848",
   "metadata": {},
   "outputs": [],
   "source": [
    "all_preds, all_labels = evaluate(model, test_loader, device)"
   ]
  },
  {
   "cell_type": "code",
   "execution_count": 77,
   "id": "ab6d2be4",
   "metadata": {},
   "outputs": [
    {
     "name": "stdout",
     "output_type": "stream",
     "text": [
      "                   precision    recall  f1-score   support\n",
      "\n",
      "       bald_eagle       0.75      1.00      0.86         3\n",
      "northern_cardinal       1.00      0.50      0.67         2\n",
      "\n",
      "         accuracy                           0.80         5\n",
      "        macro avg       0.88      0.75      0.76         5\n",
      "     weighted avg       0.85      0.80      0.78         5\n",
      "\n"
     ]
    },
    {
     "data": {
      "image/png": "[encoded data removed]",
      "text/plain": [
       "<Figure size 800x600 with 2 Axes>"
      ]
     },
     "metadata": {},
     "output_type": "display_data"
    }
   ],
   "source": [
    "# Print classification report\n",
    "target_names = list(label_map.keys())\n",
    "print(classification_report(all_labels, all_preds, target_names = target_names))\n",
    "\n",
    "# Plot confusion matrix\n",
    "cm = confusion_matrix(all_labels, all_preds)\n",
    "\n",
    "plt.figure(figsize = (8, 6))\n",
    "sns.heatmap(cm, annot = True, fmt = \"d\", xticklabels = target_names, yticklabels = target_names, cmap = \"Blues\")\n",
    "plt.xlabel(\"Predicted\")\n",
    "plt.ylabel(\"True\")\n",
    "plt.title(\"Confusion Matrix\")\n",
    "plt.show()"
   ]
  }
 ],
 "metadata": {
  "kernelspec": {
   "display_name": "dsan6600",
   "language": "python",
   "name": "python3"
  },
  "language_info": {
   "codemirror_mode": {
    "name": "ipython",
    "version": 3
   },
   "file_extension": ".py",
   "mimetype": "text/x-python",
   "name": "python",
   "nbconvert_exporter": "python",
   "pygments_lexer": "ipython3",
   "version": "3.10.16"
  }
 },
 "nbformat": 4,
 "nbformat_minor": 5
}
