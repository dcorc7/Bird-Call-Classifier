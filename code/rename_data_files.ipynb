{
 "cells": [
  {
   "cell_type": "markdown",
   "id": "dd4f7df4",
   "metadata": {
    "vscode": {
     "languageId": "plaintext"
    }
   },
   "source": [
    "## Import Required Libraries"
   ]
  },
  {
   "cell_type": "code",
   "execution_count": 1,
   "id": "509c47a5",
   "metadata": {},
   "outputs": [],
   "source": [
    "import os"
   ]
  },
  {
   "cell_type": "markdown",
   "id": "03d0f7da",
   "metadata": {},
   "source": [
    "## Loop Through and Rename Data Files"
   ]
  },
  {
   "cell_type": "code",
   "execution_count": 2,
   "id": "064f3a1b",
   "metadata": {},
   "outputs": [],
   "source": [
    "# Function to rename data files\n",
    "def rename_data_files(root_dir):\n",
    "\n",
    "    # Loop through every folder within the root directory\n",
    "    for species in os.listdir(root_dir):\n",
    "\n",
    "        # Initiaize species directory path (ex. \"data/raw/bald_eagle/\")\n",
    "        species_dir = os.path.join(root_dir, species)\n",
    "\n",
    "        # Check if the path is a directory\n",
    "        if not os.path.isdir(species_dir):\n",
    "            continue\n",
    "\n",
    "        files = []\n",
    "\n",
    "        # Collect only files with .mp3 extension\n",
    "        for file in os.listdir(species_dir):\n",
    "            if file.lower().endswith(\".mp3\"):\n",
    "                files.append(file)\n",
    "\n",
    "        # Sort files to ensure consistent ordering\n",
    "        files.sort()\n",
    "\n",
    "\n",
    "        # Loop through the list of mp3 files\n",
    "        for idx, filename in enumerate(files, start = 1):\n",
    "\n",
    "            # keep track of old file path\n",
    "            old_path = os.path.join(species_dir, filename)\n",
    "\n",
    "            # Create new filename with species name and index\n",
    "            new_filename = f\"{species}_{idx}.mp3\"\n",
    "\n",
    "            # Create new file path\n",
    "            new_path = os.path.join(species_dir, new_filename)\n",
    "\n",
    "            if os.path.exists(new_path):\n",
    "                continue\n",
    "\n",
    "            # Rename the file\n",
    "            os.rename(old_path, new_path)"
   ]
  },
  {
   "cell_type": "code",
   "execution_count": 6,
   "id": "8b186de6",
   "metadata": {},
   "outputs": [],
   "source": [
    "# Initialize root directory path\n",
    "root_dir = \"../data/raw/\"\n",
    "\n",
    "rename_data_files(root_dir)"
   ]
  }
 ],
 "metadata": {
  "kernelspec": {
   "display_name": "Python 3",
   "language": "python",
   "name": "python3"
  },
  "language_info": {
   "codemirror_mode": {
    "name": "ipython",
    "version": 3
   },
   "file_extension": ".py",
   "mimetype": "text/x-python",
   "name": "python",
   "nbconvert_exporter": "python",
   "pygments_lexer": "ipython3",
   "version": "3.13.1"
  }
 },
 "nbformat": 4,
 "nbformat_minor": 5
}
